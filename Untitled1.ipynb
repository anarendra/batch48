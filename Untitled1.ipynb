{
 "cells": [
  {
   "cell_type": "code",
   "execution_count": 1,
   "metadata": {},
   "outputs": [
    {
     "name": "stdout",
     "output_type": "stream",
     "text": [
      "100\n",
      "300\n",
      "200\n"
     ]
    }
   ],
   "source": [
    "a=100\n",
    "b=300 \n",
    "c=200\n",
    "print a\n",
    "print b\n",
    "print c"
   ]
  },
  {
   "cell_type": "code",
   "execution_count": 2,
   "metadata": {},
   "outputs": [
    {
     "name": "stdout",
     "output_type": "stream",
     "text": [
      "103939696 python program\n",
      "103939888 c program\n",
      "103939696 python program\n"
     ]
    }
   ],
   "source": [
    "s1=\"python program\"\n",
    "s2=\"c program\"\n",
    "s3=s1\n",
    "s4=\"python program\"\n",
    "\n",
    "print id(s1),s1\n",
    "print id(s2),s2\n",
    "print id(s3),s3\n",
    "\n",
    "\n"
   ]
  },
  {
   "cell_type": "code",
   "execution_count": 6,
   "metadata": {},
   "outputs": [
    {
     "ename": "SyntaxError",
     "evalue": "invalid syntax (<ipython-input-6-f1b1e718b896>, line 15)",
     "output_type": "error",
     "traceback": [
      "\u001b[1;36m  File \u001b[1;32m\"<ipython-input-6-f1b1e718b896>\"\u001b[1;36m, line \u001b[1;32m15\u001b[0m\n\u001b[1;33m    df=pd,Dataframe([{\"Id:1\",\"name\":\"anil\"},{\"id\":2,\"name\":\"Rajesh\"}])\u001b[0m\n\u001b[1;37m                                   ^\u001b[0m\n\u001b[1;31mSyntaxError\u001b[0m\u001b[1;31m:\u001b[0m invalid syntax\n"
     ]
    }
   ],
   "source": [
    "a=1000\n",
    "b=12.34\n",
    "c=1+2j\n",
    "d=\"str1\"\n",
    "e=true\n",
    "f= Flase\n",
    "g=None\n",
    "h=[1,2,3,\"str1\",12.34,1+2j,[10,20,30]]\n",
    "i=[1,2,3,\"str1\",12.34,1+2j,[10,20,30]]\n",
    "j={1,2,3,4,5,6,7}\n",
    "k={1:2,\"name\":\"anil\",1.2:3.4,(1,2,3,4):tuple}\n",
    "import numpy as np\n",
    "import pandas as pd\n",
    "ar1=np.array90([1,2,3,4,5,6])\n",
    "df=pd,Dataframe([{\"Id:1\",\"name\":\"anil\"}\n",
    "                 {\"id\":2,\"name\":\"Rajesh\"}])\n",
    "print(a).type(a)\n",
    "   print(a).type(a)\n",
    "   print(b).type(b)\n",
    "   print(c).type(c)\n",
    "   print(d).type(d)\n",
    "   print(e).type(e)\n",
    "   print(f).type(f)\n",
    "   print(g).type(g)\n",
    "   print(h).type(h)\n",
    "   print(i).type(i)\n",
    "   print(j).type(j)\n",
    "   print(k).type(k)\n",
    "   print(ar1).type(ar1)\n",
    "   print(df).type(df)"
   ]
  },
  {
   "cell_type": "code",
   "execution_count": null,
   "metadata": {
    "collapsed": true
   },
   "outputs": [],
   "source": [
    "a=1000\n",
    "b=2000\n",
    "# arithmatic operations\n",
    "print a+b\n",
    "print a-b\n",
    "print a*b\n",
    "print a/b\n",
    "print a**3\n",
    "#boolen operation\n",
    "print a**3\n",
    "print a**3\n",
    "print a**3\n",
    "print a**3\n",
    "print a**3"
   ]
  }
 ],
 "metadata": {
  "kernelspec": {
   "display_name": "Python 2",
   "language": "python",
   "name": "python2"
  },
  "language_info": {
   "codemirror_mode": {
    "name": "ipython",
    "version": 2
   },
   "file_extension": ".py",
   "mimetype": "text/x-python",
   "name": "python",
   "nbconvert_exporter": "python",
   "pygments_lexer": "ipython2",
   "version": "2.7.14"
  }
 },
 "nbformat": 4,
 "nbformat_minor": 2
}
