{
 "cells": [
  {
   "cell_type": "code",
   "execution_count": 1,
   "metadata": {},
   "outputs": [
    {
     "ename": "SyntaxError",
     "evalue": "invalid syntax (<ipython-input-1-c20cac8e13f7>, line 7)",
     "output_type": "error",
     "traceback": [
      "\u001b[1;36m  File \u001b[1;32m\"<ipython-input-1-c20cac8e13f7>\"\u001b[1;36m, line \u001b[1;32m7\u001b[0m\n\u001b[1;33m    if a>b and a>c\u001b[0m\n\u001b[1;37m                  ^\u001b[0m\n\u001b[1;31mSyntaxError\u001b[0m\u001b[1;31m:\u001b[0m invalid syntax\n"
     ]
    }
   ],
   "source": [
    "a=raw_input(\"Enter a value\")\n",
    "b=raw_input(\"Enter b value\")\n",
    "c=raw_input(\"Enter c value\")\n",
    "a=int(a)\n",
    "b=int(b)\n",
    "c=int(c)\n",
    "if a>b and a>c\n",
    "print \"b is big\"\n",
    "if b>a and b>c\n",
    "print \"a is big\"\n",
    "if c>b and c>a\n",
    "print \"a is big\""
   ]
  },
  {
   "cell_type": "code",
   "execution_count": 2,
   "metadata": {},
   "outputs": [
    {
     "ename": "SyntaxError",
     "evalue": "invalid syntax (<ipython-input-2-7ec6b7591d36>, line 7)",
     "output_type": "error",
     "traceback": [
      "\u001b[1;36m  File \u001b[1;32m\"<ipython-input-2-7ec6b7591d36>\"\u001b[1;36m, line \u001b[1;32m7\u001b[0m\n\u001b[1;33m    if a>b and a>c\u001b[0m\n\u001b[1;37m                  ^\u001b[0m\n\u001b[1;31mSyntaxError\u001b[0m\u001b[1;31m:\u001b[0m invalid syntax\n"
     ]
    }
   ],
   "source": [
    "a=raw_input(\"Enter a value\")\n",
    "b=raw_input(\"Enter b value\")\n",
    "c=raw_input(\"Enter c value\")\n",
    "a=int(a)\n",
    "b=int(b)\n",
    "c=int(c)\n",
    "if a>b and a>c\n",
    "print \"a is big\"\n",
    "if b>a and b>c\n",
    "print \"b is big\"\n",
    "if c>b and c>a\n",
    "print \"c is big\""
   ]
  },
  {
   "cell_type": "code",
   "execution_count": 3,
   "metadata": {},
   "outputs": [
    {
     "name": "stdout",
     "output_type": "stream",
     "text": [
      "Enter a value10\n",
      "Enter b value20\n",
      "Enter c value45\n",
      "c is big\n"
     ]
    }
   ],
   "source": [
    "a=raw_input(\"Enter a value\")\n",
    "b=raw_input(\"Enter b value\")\n",
    "c=raw_input(\"Enter c value\")\n",
    "a=int(a)\n",
    "b=int(b)\n",
    "c=int(c)\n",
    "if a>b and a>c:\n",
    "     print \"a is big\"\n",
    "if b>a and b>c:\n",
    "     print \"b is big\"\n",
    "if c>b and c>a:\n",
    "    print \"c is big\""
   ]
  },
  {
   "cell_type": "code",
   "execution_count": 8,
   "metadata": {},
   "outputs": [
    {
     "name": "stdout",
     "output_type": "stream",
     "text": [
      "operating system:\n",
      "\t1.windows\n",
      "\t2.android\n",
      "\t3.mac\n",
      " input is 1,2,3:3\n",
      "Go to 3rd floor and buy mac laptop or mobile\n"
     ]
    }
   ],
   "source": [
    "#operating system:\n",
    "#1)windows\n",
    "#2)android\n",
    "#3)mac\n",
    "#Enter an option:\n",
    "print (\"operating system:\\n\\t1.windows\\n\\t2.android\\n\\t3.mac\")\n",
    "a=input(\" input is 1,2,3:\")\n",
    "if a==1:\n",
    "    print\"Go to first floor and buy windows laptop or mobile\"\n",
    "if a==2:\n",
    "    print\"Go to secound floor and buy android laptop or mobile\"\n",
    "if a==3:\n",
    "    print\"Go to 3rd floor and buy mac laptop or mobile\"\n",
    "\n",
    "\n",
    "    "
   ]
  },
  {
   "cell_type": "code",
   "execution_count": 9,
   "metadata": {},
   "outputs": [
    {
     "name": "stdout",
     "output_type": "stream",
     "text": [
      "operating system:\n",
      "\t1.windows\n",
      "\t2.android\n",
      "\t3.mac\n",
      " input is 1 or windows,2 or android,3 or mac:windows\n"
     ]
    },
    {
     "ename": "NameError",
     "evalue": "name 'windows' is not defined",
     "output_type": "error",
     "traceback": [
      "\u001b[1;31m---------------------------------------------------------------------------\u001b[0m",
      "\u001b[1;31mNameError\u001b[0m                                 Traceback (most recent call last)",
      "\u001b[1;32m<ipython-input-9-7799e9036638>\u001b[0m in \u001b[0;36m<module>\u001b[1;34m()\u001b[0m\n\u001b[0;32m      5\u001b[0m \u001b[1;31m#Enter an option:\u001b[0m\u001b[1;33m\u001b[0m\u001b[1;33m\u001b[0m\u001b[0m\n\u001b[0;32m      6\u001b[0m \u001b[1;32mprint\u001b[0m \u001b[1;33m(\u001b[0m\u001b[1;34m\"operating system:\\n\\t1.windows\\n\\t2.android\\n\\t3.mac\"\u001b[0m\u001b[1;33m)\u001b[0m\u001b[1;33m\u001b[0m\u001b[0m\n\u001b[1;32m----> 7\u001b[1;33m \u001b[0ma\u001b[0m\u001b[1;33m=\u001b[0m\u001b[0minput\u001b[0m\u001b[1;33m(\u001b[0m\u001b[1;34m\" input is 1 or windows,2 or android,3 or mac:\"\u001b[0m\u001b[1;33m)\u001b[0m\u001b[1;33m\u001b[0m\u001b[0m\n\u001b[0m\u001b[0;32m      8\u001b[0m \u001b[1;32mif\u001b[0m \u001b[0ma\u001b[0m\u001b[1;33m==\u001b[0m\u001b[1;36m1\u001b[0m \u001b[1;32mor\u001b[0m \u001b[0mwindows\u001b[0m\u001b[1;33m:\u001b[0m\u001b[1;33m\u001b[0m\u001b[0m\n\u001b[0;32m      9\u001b[0m     \u001b[1;32mprint\u001b[0m\u001b[1;34m\"Go to first floor and buy windows laptop or mobile\"\u001b[0m\u001b[1;33m\u001b[0m\u001b[0m\n",
      "\u001b[1;32mE:\\anaconda\\lib\\site-packages\\ipykernel\\ipkernel.pyc\u001b[0m in \u001b[0;36m<lambda>\u001b[1;34m(prompt)\u001b[0m\n\u001b[0;32m    162\u001b[0m             \u001b[0mself\u001b[0m\u001b[1;33m.\u001b[0m\u001b[0m_sys_eval_input\u001b[0m \u001b[1;33m=\u001b[0m \u001b[0mbuiltin_mod\u001b[0m\u001b[1;33m.\u001b[0m\u001b[0minput\u001b[0m\u001b[1;33m\u001b[0m\u001b[0m\n\u001b[0;32m    163\u001b[0m             \u001b[0mbuiltin_mod\u001b[0m\u001b[1;33m.\u001b[0m\u001b[0mraw_input\u001b[0m \u001b[1;33m=\u001b[0m \u001b[0mself\u001b[0m\u001b[1;33m.\u001b[0m\u001b[0mraw_input\u001b[0m\u001b[1;33m\u001b[0m\u001b[0m\n\u001b[1;32m--> 164\u001b[1;33m             \u001b[0mbuiltin_mod\u001b[0m\u001b[1;33m.\u001b[0m\u001b[0minput\u001b[0m \u001b[1;33m=\u001b[0m \u001b[1;32mlambda\u001b[0m \u001b[0mprompt\u001b[0m\u001b[1;33m=\u001b[0m\u001b[1;34m''\u001b[0m\u001b[1;33m:\u001b[0m \u001b[0meval\u001b[0m\u001b[1;33m(\u001b[0m\u001b[0mself\u001b[0m\u001b[1;33m.\u001b[0m\u001b[0mraw_input\u001b[0m\u001b[1;33m(\u001b[0m\u001b[0mprompt\u001b[0m\u001b[1;33m)\u001b[0m\u001b[1;33m)\u001b[0m\u001b[1;33m\u001b[0m\u001b[0m\n\u001b[0m\u001b[0;32m    165\u001b[0m         \u001b[0mself\u001b[0m\u001b[1;33m.\u001b[0m\u001b[0m_save_getpass\u001b[0m \u001b[1;33m=\u001b[0m \u001b[0mgetpass\u001b[0m\u001b[1;33m.\u001b[0m\u001b[0mgetpass\u001b[0m\u001b[1;33m\u001b[0m\u001b[0m\n\u001b[0;32m    166\u001b[0m         \u001b[0mgetpass\u001b[0m\u001b[1;33m.\u001b[0m\u001b[0mgetpass\u001b[0m \u001b[1;33m=\u001b[0m \u001b[0mself\u001b[0m\u001b[1;33m.\u001b[0m\u001b[0mgetpass\u001b[0m\u001b[1;33m\u001b[0m\u001b[0m\n",
      "\u001b[1;32mE:\\anaconda\\lib\\site-packages\\ipykernel\\ipkernel.pyc\u001b[0m in \u001b[0;36m<module>\u001b[1;34m()\u001b[0m\n",
      "\u001b[1;31mNameError\u001b[0m: name 'windows' is not defined"
     ]
    }
   ],
   "source": [
    "#operating system:\n",
    "#1)windows\n",
    "#2)android\n",
    "#3)mac\n",
    "#Enter an option:\n",
    "print (\"operating system:\\n\\t1.windows\\n\\t2.android\\n\\t3.mac\")\n",
    "a=input(\" input is 1 or windows,2 or android,3 or mac:\")\n",
    "if a==1 or windows:\n",
    "    print\"Go to first floor and buy windows laptop or mobile\"\n",
    "if a==2 or android:\n",
    "    print\"Go to secound floor and buy android laptop or mobile\"\n",
    "if a==3 or mac:\n",
    "    print\"Go to 3rd floor and buy mac laptop or mobile\""
   ]
  },
  {
   "cell_type": "code",
   "execution_count": 13,
   "metadata": {},
   "outputs": [
    {
     "name": "stdout",
     "output_type": "stream",
     "text": [
      "operating system:\n",
      "\t1.windows\n",
      "\t2.android\n",
      "\t3.mac\n",
      " input is 1,2,3:4\n",
      "your option is invalid\n"
     ]
    }
   ],
   "source": [
    "#operating system:\n",
    "#1)windows\n",
    "#2)android\n",
    "#3)mac\n",
    "#Enter an option:\n",
    "print (\"operating system:\\n\\t1.windows\\n\\t2.android\\n\\t3.mac\")\n",
    "a=input(\" input is 1,2,3:\")\n",
    "if a==1:\n",
    "    print\"Go to first floor and buy windows laptop or mobile\"\n",
    "if a==2:\n",
    "    print\"Go to secound floor and buy android laptop or mobile\"\n",
    "if a==3:\n",
    "    print\"Go to 3rd floor and buy mac laptop or mobile\"\n",
    "if a>3:\n",
    "    print \"your option is invalid\""
   ]
  },
  {
   "cell_type": "code",
   "execution_count": 22,
   "metadata": {},
   "outputs": [
    {
     "name": "stdout",
     "output_type": "stream",
     "text": [
      "enter a value14\n",
      "enter b value13\n",
      "enter c value45\n",
      "a is bigger then b\n"
     ]
    }
   ],
   "source": [
    "# find bigger number\n",
    "a=raw_input(\"enter a value\")\n",
    "b=raw_input(\"enter b value\")\n",
    "c=raw_input(\"enter c value\")\n",
    "if a>b:\n",
    "    print \"a is bigger then b\"\n",
    "else:\n",
    "    print \"Thank you sir\"\n",
    "\n"
   ]
  },
  {
   "cell_type": "code",
   "execution_count": 25,
   "metadata": {},
   "outputs": [
    {
     "name": "stdout",
     "output_type": "stream",
     "text": [
      "enter a value14\n",
      "enter b value16\n",
      "enter c value12\n",
      "b is bigger then a\n",
      "Thank you sir\n"
     ]
    }
   ],
   "source": [
    "# find bigger number\n",
    "a=raw_input(\"enter a value\")\n",
    "b=raw_input(\"enter b value\")\n",
    "c=raw_input(\"enter c value\")\n",
    "if a>b:\n",
    "    print \"a is bigger then b\"\n",
    "           \n",
    "else:\n",
    "        print\"b is bigger then a\"\n",
    "print \"Thank you sir\""
   ]
  },
  {
   "cell_type": "code",
   "execution_count": null,
   "metadata": {
    "collapsed": true
   },
   "outputs": [],
   "source": []
  }
 ],
 "metadata": {
  "kernelspec": {
   "display_name": "Python 2",
   "language": "python",
   "name": "python2"
  },
  "language_info": {
   "codemirror_mode": {
    "name": "ipython",
    "version": 2
   },
   "file_extension": ".py",
   "mimetype": "text/x-python",
   "name": "python",
   "nbconvert_exporter": "python",
   "pygments_lexer": "ipython2",
   "version": "2.7.14"
  }
 },
 "nbformat": 4,
 "nbformat_minor": 2
}
