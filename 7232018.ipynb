{
 "cells": [
  {
   "cell_type": "code",
   "execution_count": 1,
   "metadata": {},
   "outputs": [
    {
     "name": "stdout",
     "output_type": "stream",
     "text": [
      "operating system:\n",
      "\t1.windows\n",
      "\t2.android\n",
      "\t3.mac\n",
      " input is 1,2,3:1\n",
      "Go to first floor and buy windows laptop or mobile\n"
     ]
    }
   ],
   "source": [
    "print (\"operating system:\\n\\t1.windows\\n\\t2.android\\n\\t3.mac\")\n",
    "a=input(\" input is 1,2,3:\")\n",
    "if a==1:\n",
    "    print\"Go to first floor and buy windows laptop or mobile\"\n",
    "if a==2:\n",
    "    print\"Go to secound floor and buy android laptop or mobile\"\n",
    "if a==3:\n",
    "    print\"Go to 3rd floor and buy mac laptop or mobile\"\n",
    "if a>3:\n",
    "    print \"your option is invalid\""
   ]
  },
  {
   "cell_type": "code",
   "execution_count": 4,
   "metadata": {},
   "outputs": [
    {
     "name": "stdout",
     "output_type": "stream",
     "text": [
      "operating system:\n",
      "\t1.windows\n",
      "\t2.android\n",
      "\t3.mac\n",
      " input is 1,2,3:4\n",
      "there is a tree floors,please the select one of the those\n",
      "Thank you.\n"
     ]
    }
   ],
   "source": [
    "print (\"operating system:\\n\\t1.windows\\n\\t2.android\\n\\t3.mac\")\n",
    "a=int(raw_input(\" input is 1,2,3:\"))\n",
    "if a>3 or a<1:\n",
    "    print\"there is a tree floors,please the select one of the those\"\n",
    "if a==1:\n",
    "    print\"Go to first floor and buy windows laptop or mobile\"\n",
    "elif a==2:\n",
    "    print\"Go to secound floor and buy android laptop or mobile\"\n",
    "elif a==3:\n",
    "    print\"Go to 3rd floor and buy mac laptop or mobile\"\n",
    "print\"Thank you.\"\n"
   ]
  },
  {
   "cell_type": "code",
   "execution_count": 5,
   "metadata": {},
   "outputs": [
    {
     "name": "stdout",
     "output_type": "stream",
     "text": [
      "operating system:\n",
      "\t1.windows\n",
      "\t2.android\n",
      "\t3.mac\n",
      " input is 1,2,3:1\n",
      "Go to first floor and buy windows laptop or mobile\n",
      "Thank you.\n"
     ]
    }
   ],
   "source": [
    "print (\"operating system:\\n\\t1.windows\\n\\t2.android\\n\\t3.mac\")\n",
    "a=int(raw_input(\" input is 1,2,3:\"))\n",
    "if a==1:\n",
    "    print\"Go to first floor and buy windows laptop or mobile\"\n",
    "elif a==2:\n",
    "    print\"Go to secound floor and buy android laptop or mobile\"\n",
    "elif a==3:\n",
    "    print\"Go to 3rd floor and buy mac laptop or mobile\"\n",
    "else:\n",
    "    print\"there is a tree floors,please the select one of the those\"\n",
    "print\"Thank you.\""
   ]
  },
  {
   "cell_type": "code",
   "execution_count": 6,
   "metadata": {},
   "outputs": [
    {
     "name": "stdout",
     "output_type": "stream",
     "text": [
      "operating system:\n",
      "\t1.windows\n",
      "\t2.android\n",
      "\t3.mac\n",
      " input is 1,2,3:10\n",
      "there is a tree floors,please the select one of the those\n",
      "Thank you.\n"
     ]
    }
   ],
   "source": [
    "print (\"operating system:\\n\\t1.windows\\n\\t2.android\\n\\t3.mac\")\n",
    "a=int(raw_input(\" input is 1,2,3:\"))\n",
    "if a==1:\n",
    "    print\"Go to first floor and buy windows laptop or mobile\"\n",
    "elif a==2:\n",
    "    print\"Go to secound floor and buy android laptop or mobile\"\n",
    "elif a==3:\n",
    "    print\"Go to 3rd floor and buy mac laptop or mobile\"\n",
    "else:\n",
    "    print\"there is a tree floors,please the select one of the those\"\n",
    "print\"Thank you.\""
   ]
  },
  {
   "cell_type": "code",
   "execution_count": 7,
   "metadata": {},
   "outputs": [
    {
     "name": "stdout",
     "output_type": "stream",
     "text": [
      "operating system:\n",
      "\t1.windows\n",
      "\t2.android\n",
      "\t3.mac\n",
      " input is 1,2,3:10\n",
      "there is a tree floors,please the select one of the those\n",
      "Thank you.\n"
     ]
    }
   ],
   "source": [
    "print (\"operating system:\\n\\t1.windows\\n\\t2.android\\n\\t3.mac\")\n",
    "a=raw_input(\" input is 1,2,3:\")\n",
    "if a==\"1\":\n",
    "    print\"Go to first floor and buy windows laptop or mobile\"\n",
    "elif a==\"2\":\n",
    "    print\"Go to secound floor and buy android laptop or mobile\"\n",
    "elif a==\"3\":\n",
    "    print\"Go to 3rd floor and buy mac laptop or mobile\"\n",
    "else:\n",
    "    print\"there is a tree floors,please the select one of the those\"\n",
    "print\"Thank you.\""
   ]
  },
  {
   "cell_type": "code",
   "execution_count": null,
   "metadata": {},
   "outputs": [],
   "source": [
    "print(\"Eligibility system:\\n\\t1.theathe:\\n\\t2.voting system\\n\\t3.marriage in india\\n\\t4.for govt jobs\\n\\t5.For drving licence\")\n",
    "option=raw_input(\"enter an option\")\n",
    "option_gender= raw_input(\"Gender:\\n\\t1.men\\n\\t2.women\")\n",
    "age=raw_input(\"enter a age\")\n",
    "if option==\"1\":\n",
    "    if gender==\"1\":\n",
    "        print\"evalating for men\"\n",
    "        if gender_age>\"5\":\n",
    "            print \"Your eligibility to enter theathe enjoy the day\"\n",
    "        else:\n",
    "            print \"Sorry your not eligibule to enter theather\\nBetter lock next time.\"\n",
    "    if gender==\"2\":\n",
    "        print\"Evalating for women\"\n",
    "        if gender_age>\"7\":\n",
    "            print \"your eligibule to enter theathe\"\n",
    "        else:\n",
    "            print\"Sorry your not eligibule to enter theather\\nBetter lock next time\"\n",
    "            \n",
    "    "
   ]
  },
  {
   "cell_type": "code",
   "execution_count": 3,
   "metadata": {},
   "outputs": [
    {
     "name": "stdout",
     "output_type": "stream",
     "text": [
      "Eligibility system:\n",
      "\t1.theathe:\n",
      "\t2.voting system\n",
      "\t3.marriage in india\n",
      "\t4.for govt jobs\n",
      "\t5.For drving licence\n",
      "enter an option1\n",
      "Gender:\n",
      "\t1.men\n",
      "\t2.women2\n",
      "enter a age8\n",
      "Evalating for women\n",
      "your eligibule to enter theathe\n"
     ]
    }
   ],
   "source": [
    "print(\"Eligibility system:\\n\\t1.theathe:\\n\\t2.voting system\\n\\t3.marriage in india\\n\\t4.for govt jobs\\n\\t5.For drving licence\")\n",
    "option=raw_input(\"enter an option\")\n",
    "option_gender= raw_input(\"Gender:\\n\\t1.men\\n\\t2.women\")\n",
    "gender_age=raw_input(\"enter a age\")\n",
    "if option==\"1\":\n",
    "    if option_gender==\"1\":\n",
    "        print\"evalating for men\"\n",
    "        if gender_age>\"5\":\n",
    "            print \"Your eligibility to enter theathe enjoy the day\"\n",
    "        else:\n",
    "            print \"Sorry your not eligibule to enter theather\\nBetter lock next time.\"\n",
    "    if option_gender==\"2\":\n",
    "        print\"Evalating for women\"\n",
    "        if gender_age>\"7\":\n",
    "            print \"your eligibule to enter theathe\"\n",
    "        else:\n",
    "            print\"Sorry your not eligibule to enter theather\\nBetter lock next time\""
   ]
  },
  {
   "cell_type": "code",
   "execution_count": 6,
   "metadata": {},
   "outputs": [
    {
     "name": "stdout",
     "output_type": "stream",
     "text": [
      "Eligibility system:\n",
      "\t1.theathe:\n",
      "\t2.voting system\n",
      "\t3.marriage in india\n",
      "\t4.for govt jobs\n",
      "\t5.For drving licence\n",
      "enter an option1\n",
      "Gender:\n",
      "\t1.men\n",
      "\t2.women2\n",
      "enter a age3\n",
      "Evalating for women\n",
      "Sorry your not eligibule to enter theather\n",
      "Better lock next time\n"
     ]
    }
   ],
   "source": [
    "print(\"Eligibility system:\\n\\t1.theathe:\\n\\t2.voting system\\n\\t3.marriage in india\\n\\t4.for govt jobs\\n\\t5.For drving licence\")\n",
    "option=raw_input(\"enter an option\")\n",
    "option_gender= raw_input(\"Gender:\\n\\t1.men\\n\\t2.women\")\n",
    "gender_age=raw_input(\"enter a age\")\n",
    "if option==\"1\":\n",
    "    if option_gender==\"1\":\n",
    "        print\"evalating for men\"\n",
    "        if gender_age>\"5\":\n",
    "            print \"Your eligibility to enter theathe enjoy the day\"\n",
    "        else:\n",
    "            print \"Sorry your not eligibule to enter theather\\nBetter lock next time.\"\n",
    "    else:\n",
    "        print\"Evalating for women\"\n",
    "        if gender_age>\"7\":\n",
    "            print \"your eligibule to enter theathe\"\n",
    "        else:\n",
    "            print\"Sorry your not eligibule to enter theather\\nBetter lock next time\""
   ]
  },
  {
   "cell_type": "code",
   "execution_count": 7,
   "metadata": {},
   "outputs": [
    {
     "name": "stdout",
     "output_type": "stream",
     "text": [
      "Eligibility system:\n",
      "\t1.theathe:\n",
      "\t2.voting system\n",
      "\t3.marriage in india\n",
      "\t4.for govt jobs\n",
      "\t5.For drving licence\n",
      "enter an option2\n",
      "Gender:\n",
      "\t1.men\n",
      "\t2.women2\n",
      "enter a age18\n",
      "Evalating for women\n",
      "Your eligibule for voting.\n"
     ]
    }
   ],
   "source": [
    "print(\"Eligibility system:\\n\\t1.theathe:\\n\\t2.voting system\\n\\t3.marriage in india\\n\\t4.for govt jobs\\n\\t5.For drving licence\")\n",
    "option=raw_input(\"enter an option\")\n",
    "option_gender= raw_input(\"Gender:\\n\\t1.men\\n\\t2.women\")\n",
    "gender_age=raw_input(\"enter a age\")\n",
    "if option==\"1\":\n",
    "    if option_gender==\"1\":\n",
    "        print\"evalating for men\"\n",
    "        if gender_age>\"5\":\n",
    "            print \"Your eligibility to enter theathe enjoy the day\"\n",
    "        else:\n",
    "            print \"Sorry your not eligibule to enter theather\\nBetter lock next time.\"\n",
    "    else:\n",
    "        print\"Evalating for women\"\n",
    "        if gender_age>\"7\":\n",
    "            print \"your eligibule to enter theathe\"\n",
    "        else:\n",
    "            print\"Sorry your not eligibule to enter theather\\nBetter lock next time\"\n",
    "if option==\"2\":\n",
    "    if option_gender==\"1\":\n",
    "        print\"evalating for men\"\n",
    "        if gender_age>=\"18\":\n",
    "            print \"Your eligibule for voting.\"\n",
    "        else:\n",
    "            print \"Sorry your not eligibule for voting \\nBetter lock next time.\"\n",
    "    else:\n",
    "        print\"Evalating for women\"\n",
    "        if gender_age>=\"18\":\n",
    "            print \"Your eligibule for voting.\"\n",
    "        else:\n",
    "            print\"Sorry your not eligibule for voting \\nBetter lock next time\""
   ]
  },
  {
   "cell_type": "code",
   "execution_count": 10,
   "metadata": {},
   "outputs": [
    {
     "name": "stdout",
     "output_type": "stream",
     "text": [
      "Eligibility system:\n",
      "\t1.theathe:\n",
      "\t2.voting system\n",
      "\t3.marriage in india\n",
      "\t4.for govt jobs\n",
      "\t5.For drving licence\n",
      "enter an option5\n",
      "Gender:\n",
      "\t1.men\n",
      "\t2.women2\n",
      "enter a age45\n",
      "Evalating for women\n",
      "Your eligibule for drving licence.\n"
     ]
    }
   ],
   "source": [
    "print(\"Eligibility system:\\n\\t1.theathe:\\n\\t2.voting system\\n\\t3.marriage in india\\n\\t4.for govt jobs\\n\\t5.For drving licence\")\n",
    "option=raw_input(\"enter an option\")\n",
    "option_gender= raw_input(\"Gender:\\n\\t1.men\\n\\t2.women\")\n",
    "gender_age=raw_input(\"enter a age\")\n",
    "if option==\"1\":\n",
    "    if option_gender==\"1\":\n",
    "        print\"evalating for men\"\n",
    "        if gender_age>\"5\":\n",
    "            print \"Your eligibility to enter theathe enjoy the day\"\n",
    "        else:\n",
    "            print \"Sorry your not eligibule to enter theather\\nBetter lock next time.\"\n",
    "    else:\n",
    "        print\"Evalating for women\"\n",
    "        if gender_age>\"7\":\n",
    "            print \"your eligibule to enter theathe\"\n",
    "        else:\n",
    "            print\"Sorry your not eligibule to enter theather\\nBetter lock next time\"\n",
    "if option==\"2\":\n",
    "    if option_gender==\"1\":\n",
    "        print\"evalating for men\"\n",
    "        if gender_age>=\"18\":\n",
    "            print \"Your eligibule for voting.\"\n",
    "        else:\n",
    "            print \"Sorry your not eligibule for voting \\nBetter lock next time.\"\n",
    "    else:\n",
    "        print\"Evalating for women\"\n",
    "        if gender_age>=\"18\":\n",
    "            print \"Your eligibule for voting.\"\n",
    "        else:\n",
    "            print\"Sorry your not eligibule for voting \\nBetter lock next time\"\n",
    "if option==\"3\":\n",
    "    if option_gender==\"1\":\n",
    "        print\"evalating for men\"\n",
    "        if gender_age>=\"23\":\n",
    "            print \"Your eligibule for marriage in india.\"\n",
    "        else:\n",
    "            print \"Sorry your not eligibule marriage in india \\nBetter lock next time.\"\n",
    "    else:\n",
    "        print\"Evalating for women\"\n",
    "        if gender_age>=\"18\":\n",
    "            print \"Your eligibule for voting.\"\n",
    "        else:\n",
    "            print\"Sorry your not eligibule marriage in india \\nBetter lock next time.\"\n",
    "if option==\"4\":\n",
    "    if option_gender==\"1\":\n",
    "        print\"evalating for men\"\n",
    "        if gender_age>=\"18\" and gender_age<=\"34\":\n",
    "            print \"Your eligibule for govt job.\"\n",
    "        else:\n",
    "            print \"Sorry your not eligibule govt job \\nBetter lock next time.\"\n",
    "    else:\n",
    "        print\"Evalating for women\"\n",
    "        if gender_age>=\"18\" and gender_age>=\"36\":\n",
    "            print \"Your eligibule for govt job.\"\n",
    "        else:\n",
    "            print\"Sorry your not eligibule for govt job \\nBetter lock next time.\"\n",
    "if option==\"5\":\n",
    "    if option_gender==\"1\":\n",
    "        print\"Evalating for men\"\n",
    "        if gender_age>=\"18\":\n",
    "            print \"Your eligibule for drving licence.\"\n",
    "        else:\n",
    "            print \"Sorry your not eligibule drving licence \\nBetter lock next time.\"\n",
    "    else:\n",
    "        print\"Evalating for women\"\n",
    "        if gender_age>=\"18\":\n",
    "            print \"Your eligibule for drving licence.\"\n",
    "        else:\n",
    "            print\"Sorry your not eligibule for drving licence \\nBetter lock next time.\"\n",
    "            "
   ]
  },
  {
   "cell_type": "code",
   "execution_count": 13,
   "metadata": {},
   "outputs": [
    {
     "name": "stdout",
     "output_type": "stream",
     "text": [
      "Eligibility system:\n",
      "\t1.theathe:\n",
      "\t2.voting system\n",
      "\t3.marriage in india\n",
      "\t4.for govt jobs\n",
      "\t5.For drving licence\n",
      "enter an option4\n",
      "Gender:\n",
      "\t1.men\n",
      "\t2.women1\n",
      "enter a age24\n",
      "evalating for men\n",
      "Your eligibule for govt job.\n"
     ]
    }
   ],
   "source": [
    "print(\"Eligibility system:\\n\\t1.theathe:\\n\\t2.voting system\\n\\t3.marriage in india\\n\\t4.for govt jobs\\n\\t5.For drving licence\")\n",
    "option=raw_input(\"enter an option\")\n",
    "option_gender= raw_input(\"Gender:\\n\\t1.men\\n\\t2.women\")\n",
    "gender_age=raw_input(\"enter a age\")\n",
    "elif option==\"1\":\n",
    "    if option_gender==\"1\":\n",
    "        print\"evalating for men\"\n",
    "        if gender_age>\"5\":\n",
    "            print \"Your eligibility to enter theathe enjoy the day\"\n",
    "        else:\n",
    "            print \"Sorry your not eligibule to enter theather\\nBetter lock next time.\"\n",
    "    else:\n",
    "        print\"Evalating for women\"\n",
    "        if gender_age>\"7\":\n",
    "            print \"your eligibule to enter theathe\"\n",
    "        else:\n",
    "            print\"Sorry your not eligibule to enter theather\\nBetter lock next time\"\n",
    "elif option==\"2\":\n",
    "    if option_gender==\"1\":\n",
    "        print\"evalating for men\"\n",
    "        if gender_age>=\"18\":\n",
    "            print \"Your eligibule for voting.\"\n",
    "        else:\n",
    "            print \"Sorry your not eligibule for voting \\nBetter lock next time.\"\n",
    "    else:\n",
    "        print\"Evalating for women\"\n",
    "        if gender_age>=\"18\":\n",
    "            print \"Your eligibule for voting.\"\n",
    "        else:\n",
    "            print\"Sorry your not eligibule for voting \\nBetter lock next time\"\n",
    "elif option==\"3\":\n",
    "    if option_gender==\"1\":\n",
    "        print\"evalating for men\"\n",
    "        if gender_age>=\"23\":\n",
    "            print \"Your eligibule for marriage in india.\"\n",
    "        else:\n",
    "            print \"Sorry your not eligibule marriage in india \\nBetter lock next time.\"\n",
    "    else:\n",
    "        print\"Evalating for women\"\n",
    "        if gender_age>=\"18\":\n",
    "            print \"Your eligibule for voting.\"\n",
    "        else:\n",
    "            print\"Sorry your not eligibule marriage in india \\nBetter lock next time.\"\n",
    "elif option==\"4\":\n",
    "    if option_gender==\"1\":\n",
    "        print\"evalating for men\"\n",
    "        if gender_age>=\"18\" and gender_age<=\"34\":\n",
    "            print \"Your eligibule for govt job.\"\n",
    "        else:\n",
    "            print \"Sorry your not eligibule govt job \\nBetter lock next time.\"\n",
    "    else:\n",
    "        print\"Evalating for women\"\n",
    "        if gender_age>=\"18\" and gender_age>=\"36\":\n",
    "            print \"Your eligibule for govt job.\"\n",
    "        else:\n",
    "            print\"Sorry your not eligibule for govt job \\nBetter lock next time.\"\n",
    "elif option==\"5\":\n",
    "    if option_gender==\"1\":\n",
    "        print\"Evalating for men\"\n",
    "        if gender_age>=\"18\":\n",
    "            print \"Your eligibule for drving licence.\"\n",
    "        else:\n",
    "            print \"Sorry your not eligibule drving licence \\nBetter lock next time.\"\n",
    "    else:\n",
    "        print\"Evalating for women\"\n",
    "        if gender_age>=\"18\":\n",
    "            print \"Your eligibule for drving licence.\"\n",
    "        else:\n",
    "            print\"Sorry your not eligibule for drving licence \\nBetter lock next time.\""
   ]
  },
  {
   "cell_type": "code",
   "execution_count": 21,
   "metadata": {},
   "outputs": [
    {
     "ename": "SyntaxError",
     "evalue": "invalid syntax (<ipython-input-21-0e646e7fcc42>, line 2)",
     "output_type": "error",
     "traceback": [
      "\u001b[1;36m  File \u001b[1;32m\"<ipython-input-21-0e646e7fcc42>\"\u001b[1;36m, line \u001b[1;32m2\u001b[0m\n\u001b[1;33m    Temp System=raw_input(\"Enter Temp System Value\")\u001b[0m\n\u001b[1;37m              ^\u001b[0m\n\u001b[1;31mSyntaxError\u001b[0m\u001b[1;31m:\u001b[0m invalid syntax\n"
     ]
    }
   ],
   "source": [
    "print(\"Temp System:\\n\\t1.Celsius\\n\\t2.foreign heat\")\n",
    "Temp System=raw_input(\"Enter Temp System Value\")\n",
    "Temp =raw_input(\"Enter Temp Value\")\n",
    "if Temp System==1:\n",
    "    \n",
    "    \n"
   ]
  },
  {
   "cell_type": "code",
   "execution_count": null,
   "metadata": {
    "collapsed": true
   },
   "outputs": [],
   "source": []
  }
 ],
 "metadata": {
  "kernelspec": {
   "display_name": "Python 2",
   "language": "python",
   "name": "python2"
  },
  "language_info": {
   "codemirror_mode": {
    "name": "ipython",
    "version": 2
   },
   "file_extension": ".py",
   "mimetype": "text/x-python",
   "name": "python",
   "nbconvert_exporter": "python",
   "pygments_lexer": "ipython2",
   "version": "2.7.14"
  }
 },
 "nbformat": 4,
 "nbformat_minor": 2
}
