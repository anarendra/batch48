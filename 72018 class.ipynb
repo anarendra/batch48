{
 "cells": [
  {
   "cell_type": "code",
   "execution_count": 1,
   "metadata": {},
   "outputs": [
    {
     "name": "stdout",
     "output_type": "stream",
     "text": [
      "Enter a value10\n",
      "Enter b value12\n",
      "10 <type 'str'>\n",
      "12 <type 'str'>\n"
     ]
    }
   ],
   "source": [
    "a=raw_input(\"Enter a value\")\n",
    "b=raw_input(\"Enter b value\")\n",
    "print a ,type(a)\n",
    "print b, type(b)"
   ]
  },
  {
   "cell_type": "code",
   "execution_count": 2,
   "metadata": {},
   "outputs": [
    {
     "name": "stdout",
     "output_type": "stream",
     "text": [
      "Enter a value10.23\n",
      "Enter b value23.4\n",
      "10.23 <type 'str'>\n",
      "23.4 <type 'str'>\n"
     ]
    }
   ],
   "source": [
    "a=raw_input(\"Enter a value\")\n",
    "b=raw_input(\"Enter b value\")\n",
    "print a ,type(a)\n",
    "print b, type(b)\n"
   ]
  },
  {
   "cell_type": "code",
   "execution_count": null,
   "metadata": {
    "collapsed": true
   },
   "outputs": [],
   "source": [
    "a=raw_input(\"Enter a value\")\n",
    "b=raw_input(\"Enter b value\")\n",
    "print a ,type(a)\n",
    "print b, type(b)\n"
   ]
  },
  {
   "cell_type": "code",
   "execution_count": null,
   "metadata": {
    "collapsed": true
   },
   "outputs": [],
   "source": [
    "a=raw_input(\"Enter a value\")\n",
    "b=input(\"Enter b value\")\n",
    "print a ,type(a)\n",
    "print b, type(b)"
   ]
  },
  {
   "cell_type": "code",
   "execution_count": null,
   "metadata": {
    "collapsed": true
   },
   "outputs": [],
   "source": [
    "a=raw_input(\"Enter a value\")\n",
    "b=input(\"Enter b value\")\n",
    "print a ,type(a)\n",
    "print b, type(b)"
   ]
  },
  {
   "cell_type": "code",
   "execution_count": 1,
   "metadata": {},
   "outputs": [
    {
     "name": "stdout",
     "output_type": "stream",
     "text": [
      "Enter a value10\n",
      "Enter b value12\n",
      "10 <type 'str'>\n",
      "12 <type 'int'>\n"
     ]
    }
   ],
   "source": [
    "a=raw_input(\"Enter a value\")\n",
    "b=input(\"Enter b value\")\n",
    "print a ,type(a)\n",
    "print b, type(b)"
   ]
  },
  {
   "cell_type": "code",
   "execution_count": 2,
   "metadata": {},
   "outputs": [
    {
     "name": "stdout",
     "output_type": "stream",
     "text": [
      "Enter a value10.23\n",
      "Enter b value12.45\n",
      "10.23 <type 'str'>\n",
      "12.45 <type 'float'>\n"
     ]
    }
   ],
   "source": [
    "a=raw_input(\"Enter a value\")\n",
    "b=input(\"Enter b value\")\n",
    "print a ,type(a)\n",
    "print b, type(b)\n"
   ]
  },
  {
   "cell_type": "code",
   "execution_count": 3,
   "metadata": {},
   "outputs": [
    {
     "name": "stdout",
     "output_type": "stream",
     "text": [
      "Enter a value45\n",
      "Enter b value65\n",
      "45 <type 'str'>\n",
      "65 <type 'int'>\n"
     ]
    }
   ],
   "source": [
    "a=raw_input(\"Enter a value\")\n",
    "b=input(\"Enter b value\")\n",
    "print a ,type(a)\n",
    "print b, type(b)"
   ]
  },
  {
   "cell_type": "code",
   "execution_count": 4,
   "metadata": {},
   "outputs": [
    {
     "name": "stdout",
     "output_type": "stream",
     "text": [
      "Enter b value12.35\n",
      "12.35 <type 'float'>\n"
     ]
    }
   ],
   "source": [
    "\n",
    "b=input(\"Enter b value\")\n",
    "\n",
    "print b, type(b)"
   ]
  },
  {
   "cell_type": "code",
   "execution_count": 5,
   "metadata": {},
   "outputs": [
    {
     "name": "stdout",
     "output_type": "stream",
     "text": [
      "Enter a value10\n",
      "10 <type 'int'>\n"
     ]
    }
   ],
   "source": [
    "a=input(\"Enter a value\")\n",
    "print a,type (a)"
   ]
  },
  {
   "cell_type": "code",
   "execution_count": 6,
   "metadata": {},
   "outputs": [
    {
     "name": "stdout",
     "output_type": "stream",
     "text": [
      "python\n",
      "python\n"
     ]
    }
   ],
   "source": [
    "print'python'\n",
    "print \"python\""
   ]
  },
  {
   "cell_type": "code",
   "execution_count": 7,
   "metadata": {},
   "outputs": [
    {
     "name": "stdout",
     "output_type": "stream",
     "text": [
      "python\n",
      " ramu\n",
      "python\n",
      " ramu\n"
     ]
    }
   ],
   "source": [
    "print'python\\n ramu'\n",
    "print \"python\\n ramu\""
   ]
  },
  {
   "cell_type": "code",
   "execution_count": 8,
   "metadata": {},
   "outputs": [
    {
     "ename": "SyntaxError",
     "evalue": "invalid syntax (<ipython-input-8-744eac6d79e4>, line 1)",
     "output_type": "error",
     "traceback": [
      "\u001b[1;36m  File \u001b[1;32m\"<ipython-input-8-744eac6d79e4>\"\u001b[1;36m, line \u001b[1;32m1\u001b[0m\n\u001b[1;33m    print 'python 'ramu same''\u001b[0m\n\u001b[1;37m                      ^\u001b[0m\n\u001b[1;31mSyntaxError\u001b[0m\u001b[1;31m:\u001b[0m invalid syntax\n"
     ]
    }
   ],
   "source": [
    "print 'python 'ramu same''"
   ]
  },
  {
   "cell_type": "code",
   "execution_count": 9,
   "metadata": {},
   "outputs": [
    {
     "ename": "SyntaxError",
     "evalue": "invalid syntax (<ipython-input-9-0408ff693c2a>, line 1)",
     "output_type": "error",
     "traceback": [
      "\u001b[1;36m  File \u001b[1;32m\"<ipython-input-9-0408ff693c2a>\"\u001b[1;36m, line \u001b[1;32m1\u001b[0m\n\u001b[1;33m    print \"it's a \"cool\"day in hyerabad\"\u001b[0m\n\u001b[1;37m                      ^\u001b[0m\n\u001b[1;31mSyntaxError\u001b[0m\u001b[1;31m:\u001b[0m invalid syntax\n"
     ]
    }
   ],
   "source": [
    "print \"it's a \"cool\"day in hyerabad\""
   ]
  },
  {
   "cell_type": "code",
   "execution_count": 10,
   "metadata": {},
   "outputs": [
    {
     "name": "stdout",
     "output_type": "stream",
     "text": [
      "it's a coolday in hyerabad\n"
     ]
    }
   ],
   "source": [
    "print \"it's a coolday in hyerabad\""
   ]
  },
  {
   "cell_type": "code",
   "execution_count": 11,
   "metadata": {},
   "outputs": [
    {
     "name": "stdout",
     "output_type": "stream",
     "text": [
      "it's a coolday in hyerabad\n"
     ]
    }
   ],
   "source": [
    "print \"it's a\"+\" cool\" +\"day in hyerabad\""
   ]
  },
  {
   "cell_type": "code",
   "execution_count": 12,
   "metadata": {},
   "outputs": [
    {
     "name": "stdout",
     "output_type": "stream",
     "text": [
      "it's a cool day in hyerabad\n"
     ]
    }
   ],
   "source": [
    "print \"it's a\"+''\" cool \" ''+\"day in hyerabad\""
   ]
  },
  {
   "cell_type": "code",
   "execution_count": 13,
   "metadata": {},
   "outputs": [
    {
     "name": "stdout",
     "output_type": "stream",
     "text": [
      "it's a\" cool \" day in hyerabad\n"
     ]
    }
   ],
   "source": [
    "print \"it's a\"+'\" cool \" '+\"day in hyerabad\""
   ]
  },
  {
   "cell_type": "code",
   "execution_count": 14,
   "metadata": {},
   "outputs": [
    {
     "name": "stdout",
     "output_type": "stream",
     "text": [
      "%s,%d,%f,%r\n"
     ]
    }
   ],
   "source": [
    "print \"%s,%d,%f,%r\""
   ]
  },
  {
   "cell_type": "code",
   "execution_count": 15,
   "metadata": {},
   "outputs": [
    {
     "ename": "SyntaxError",
     "evalue": "invalid syntax (<ipython-input-15-5ecda059c127>, line 3)",
     "output_type": "error",
     "traceback": [
      "\u001b[1;36m  File \u001b[1;32m\"<ipython-input-15-5ecda059c127>\"\u001b[1;36m, line \u001b[1;32m3\u001b[0m\n\u001b[1;33m    print cost price product int(flote(cost))\u001b[0m\n\u001b[1;37m                   ^\u001b[0m\n\u001b[1;31mSyntaxError\u001b[0m\u001b[1;31m:\u001b[0m invalid syntax\n"
     ]
    }
   ],
   "source": [
    "cost=12.34\n",
    "product=\"apple\"\n",
    "print cost price product int(flote(cost))"
   ]
  },
  {
   "cell_type": "code",
   "execution_count": 16,
   "metadata": {},
   "outputs": [
    {
     "ename": "SyntaxError",
     "evalue": "invalid syntax (<ipython-input-16-2003e81711eb>, line 3)",
     "output_type": "error",
     "traceback": [
      "\u001b[1;36m  File \u001b[1;32m\"<ipython-input-16-2003e81711eb>\"\u001b[1;36m, line \u001b[1;32m3\u001b[0m\n\u001b[1;33m    print cost price product int(float(cost))\u001b[0m\n\u001b[1;37m                   ^\u001b[0m\n\u001b[1;31mSyntaxError\u001b[0m\u001b[1;31m:\u001b[0m invalid syntax\n"
     ]
    }
   ],
   "source": [
    "cost=12.34\n",
    "product=\"apple\"\n",
    "print cost price product int(float(cost))"
   ]
  },
  {
   "cell_type": "code",
   "execution_count": 17,
   "metadata": {},
   "outputs": [
    {
     "ename": "SyntaxError",
     "evalue": "invalid syntax (<ipython-input-17-913ad15f751f>, line 3)",
     "output_type": "error",
     "traceback": [
      "\u001b[1;36m  File \u001b[1;32m\"<ipython-input-17-913ad15f751f>\"\u001b[1;36m, line \u001b[1;32m3\u001b[0m\n\u001b[1;33m    print \"cost price product\" int(float(cost))\u001b[0m\n\u001b[1;37m                                 ^\u001b[0m\n\u001b[1;31mSyntaxError\u001b[0m\u001b[1;31m:\u001b[0m invalid syntax\n"
     ]
    }
   ],
   "source": [
    "cost=12.34\n",
    "product=\"apple\"\n",
    "print \"cost price product\" int(float(cost))"
   ]
  },
  {
   "cell_type": "code",
   "execution_count": 18,
   "metadata": {},
   "outputs": [
    {
     "ename": "SyntaxError",
     "evalue": "invalid syntax (<ipython-input-18-fd949b9d728e>, line 3)",
     "output_type": "error",
     "traceback": [
      "\u001b[1;36m  File \u001b[1;32m\"<ipython-input-18-fd949b9d728e>\"\u001b[1;36m, line \u001b[1;32m3\u001b[0m\n\u001b[1;33m    print \"cost price product\" str(int(cost))\u001b[0m\n\u001b[1;37m                                 ^\u001b[0m\n\u001b[1;31mSyntaxError\u001b[0m\u001b[1;31m:\u001b[0m invalid syntax\n"
     ]
    }
   ],
   "source": [
    "cost=12.34\n",
    "product=\"apple\"\n",
    "print \"cost price product\" str(int(cost))"
   ]
  },
  {
   "cell_type": "code",
   "execution_count": 19,
   "metadata": {},
   "outputs": [
    {
     "name": "stdout",
     "output_type": "stream",
     "text": [
      "cost price product12\n"
     ]
    }
   ],
   "source": [
    "cost=12.34\n",
    "product=\"apple\"\n",
    "print \"cost price product\"+ str(int(cost))"
   ]
  },
  {
   "cell_type": "code",
   "execution_count": 20,
   "metadata": {},
   "outputs": [
    {
     "name": "stdout",
     "output_type": "stream",
     "text": [
      "cost price product is:12\n"
     ]
    }
   ],
   "source": [
    "cost=12.34\n",
    "product=\"apple\"\n",
    "print \"cost price product is:\"+ str(int(cost))"
   ]
  },
  {
   "cell_type": "code",
   "execution_count": 21,
   "metadata": {},
   "outputs": [
    {
     "name": "stdout",
     "output_type": "stream",
     "text": [
      "cost priceappleis:12\n"
     ]
    }
   ],
   "source": [
    "cost=12.34\n",
    "product=\"apple\"\n",
    "print \"cost price\"+ product +\"is:\"+ str(int(cost))"
   ]
  },
  {
   "cell_type": "code",
   "execution_count": 22,
   "metadata": {
    "collapsed": true
   },
   "outputs": [],
   "source": [
    "#%d<>to convet into int\n",
    "#%f<> convet into float\n",
    "#%s<> covert into string\n",
    "#%r<> convert into raw string\n",
    "#%x<> covert into hexadecimal\n",
    "#%o<> covert into octal"
   ]
  },
  {
   "cell_type": "code",
   "execution_count": 23,
   "metadata": {},
   "outputs": [
    {
     "name": "stdout",
     "output_type": "stream",
     "text": [
      "cost priceappleappleis:12\n"
     ]
    }
   ],
   "source": [
    "cost=12.34\n",
    "product=\"apple\"\n",
    "print \"cost price\"+ product +\"%sis:%d\"%(product,cost)"
   ]
  },
  {
   "cell_type": "code",
   "execution_count": 24,
   "metadata": {},
   "outputs": [
    {
     "ename": "NameError",
     "evalue": "name 'ramu' is not defined",
     "output_type": "error",
     "traceback": [
      "\u001b[1;31m---------------------------------------------------------------------------\u001b[0m",
      "\u001b[1;31mNameError\u001b[0m                                 Traceback (most recent call last)",
      "\u001b[1;32m<ipython-input-24-1d1e3c9a8f56>\u001b[0m in \u001b[0;36m<module>\u001b[1;34m()\u001b[0m\n\u001b[1;32m----> 1\u001b[1;33m \u001b[0mname\u001b[0m\u001b[1;33m=\u001b[0m \u001b[0mramu\u001b[0m\u001b[1;33m\u001b[0m\u001b[0m\n\u001b[0m\u001b[0;32m      2\u001b[0m \u001b[0mage\u001b[0m\u001b[1;33m=\u001b[0m\u001b[1;36m20\u001b[0m\u001b[1;33m\u001b[0m\u001b[0m\n\u001b[0;32m      3\u001b[0m \u001b[0mhight\u001b[0m\u001b[1;33m=\u001b[0m\u001b[1;36m6\u001b[0m\u001b[1;33m\u001b[0m\u001b[0m\n\u001b[0;32m      4\u001b[0m \u001b[0mweight\u001b[0m\u001b[1;33m=\u001b[0m\u001b[1;36m45.23\u001b[0m\u001b[1;33m\u001b[0m\u001b[0m\n\u001b[0;32m      5\u001b[0m \u001b[1;32mprint\u001b[0m \u001b[1;34m\"name:%s,age:%d,hight:%f,weight:%f\"\u001b[0m\u001b[1;33m%\u001b[0m\u001b[1;33m(\u001b[0m\u001b[0mname\u001b[0m\u001b[1;33m,\u001b[0m\u001b[0mage\u001b[0m\u001b[1;33m,\u001b[0m\u001b[0mhight\u001b[0m\u001b[1;33m,\u001b[0m\u001b[0mweight\u001b[0m\u001b[1;33m)\u001b[0m\u001b[1;33m\u001b[0m\u001b[0m\n",
      "\u001b[1;31mNameError\u001b[0m: name 'ramu' is not defined"
     ]
    }
   ],
   "source": [
    "name= ramu\n",
    "age=20\n",
    "hight=6\n",
    "weight=45.23\n",
    "print \"name:%s,age:%d,hight:%f,weight:%f\"%(name,age,hight,weight)"
   ]
  },
  {
   "cell_type": "code",
   "execution_count": 25,
   "metadata": {},
   "outputs": [
    {
     "name": "stdout",
     "output_type": "stream",
     "text": [
      "name:ramu,age:20,hight:6.000000,weight:45.230000\n"
     ]
    }
   ],
   "source": [
    "name=\"ramu\"\n",
    "age=20\n",
    "hight=6\n",
    "weight=45.23\n",
    "print \"name:%s,age:%d,hight:%f,weight:%f\"%(name,age,hight,weight)"
   ]
  },
  {
   "cell_type": "code",
   "execution_count": 26,
   "metadata": {},
   "outputs": [
    {
     "name": "stdout",
     "output_type": "stream",
     "text": [
      "name:ramu,age:20,hight:6.00,weight:45.230\n"
     ]
    }
   ],
   "source": [
    "name=\"ramu\"\n",
    "age=20\n",
    "hight=6\n",
    "weight=45.23\n",
    "print \"name:%s,age:%d,hight:%.2f,weight:%.3f\"%(name,age,hight,weight)"
   ]
  },
  {
   "cell_type": "code",
   "execution_count": 27,
   "metadata": {},
   "outputs": [
    {
     "name": "stdout",
     "output_type": "stream",
     "text": [
      "this is \n",
      " my\n",
      " bag,'this is \\n my\\n bag'\n"
     ]
    }
   ],
   "source": [
    "s1=\"this is \\n my\\n bag\"\n",
    "s2=\"this is \\n my\\n bag\"\n",
    "print \"%s,%r\"%(s1,s2)"
   ]
  },
  {
   "cell_type": "code",
   "execution_count": 28,
   "metadata": {},
   "outputs": [
    {
     "ename": "NameError",
     "evalue": "name 'upper' is not defined",
     "output_type": "error",
     "traceback": [
      "\u001b[1;31m---------------------------------------------------------------------------\u001b[0m",
      "\u001b[1;31mNameError\u001b[0m                                 Traceback (most recent call last)",
      "\u001b[1;32m<ipython-input-28-11aafd6ecc62>\u001b[0m in \u001b[0;36m<module>\u001b[1;34m()\u001b[0m\n\u001b[0;32m      1\u001b[0m \u001b[0ms1\u001b[0m\u001b[1;33m=\u001b[0m\u001b[1;34m\"this is \\n my\\n bag\"\u001b[0m\u001b[1;33m\u001b[0m\u001b[0m\n\u001b[1;32m----> 2\u001b[1;33m \u001b[1;32mprint\u001b[0m \u001b[0mupper\u001b[0m\u001b[1;33m(\u001b[0m\u001b[0ms1\u001b[0m\u001b[1;33m)\u001b[0m\u001b[1;33m\u001b[0m\u001b[0m\n\u001b[0m",
      "\u001b[1;31mNameError\u001b[0m: name 'upper' is not defined"
     ]
    }
   ],
   "source": [
    "s1=\"this is \\n my\\n bag\"\n",
    "print upper(s1)\n"
   ]
  },
  {
   "cell_type": "code",
   "execution_count": 29,
   "metadata": {},
   "outputs": [
    {
     "ename": "SyntaxError",
     "evalue": "invalid syntax (<ipython-input-29-c93ae76593fd>, line 2)",
     "output_type": "error",
     "traceback": [
      "\u001b[1;36m  File \u001b[1;32m\"<ipython-input-29-c93ae76593fd>\"\u001b[1;36m, line \u001b[1;32m2\u001b[0m\n\u001b[1;33m    print .upper(s1)\u001b[0m\n\u001b[1;37m          ^\u001b[0m\n\u001b[1;31mSyntaxError\u001b[0m\u001b[1;31m:\u001b[0m invalid syntax\n"
     ]
    }
   ],
   "source": [
    "s1=\"this is \\n my\\n bag\"\n",
    "print .upper(s1)\n"
   ]
  },
  {
   "cell_type": "code",
   "execution_count": 30,
   "metadata": {},
   "outputs": [
    {
     "name": "stdout",
     "output_type": "stream",
     "text": [
      ".upper(s1)\n"
     ]
    }
   ],
   "source": [
    "s1=\"this is \\n my\\n bag\"\n",
    "print \".upper(s1)\""
   ]
  },
  {
   "cell_type": "code",
   "execution_count": 31,
   "metadata": {},
   "outputs": [
    {
     "ename": "SyntaxError",
     "evalue": "invalid syntax (<ipython-input-31-a6723e2cce81>, line 2)",
     "output_type": "error",
     "traceback": [
      "\u001b[1;36m  File \u001b[1;32m\"<ipython-input-31-a6723e2cce81>\"\u001b[1;36m, line \u001b[1;32m2\u001b[0m\n\u001b[1;33m    s2=.upper(s1)\u001b[0m\n\u001b[1;37m       ^\u001b[0m\n\u001b[1;31mSyntaxError\u001b[0m\u001b[1;31m:\u001b[0m invalid syntax\n"
     ]
    }
   ],
   "source": [
    "s1=\"this is \\n my\\n bag\"\n",
    "s2=.upper(s1)\n",
    "print s2"
   ]
  },
  {
   "cell_type": "code",
   "execution_count": 32,
   "metadata": {},
   "outputs": [
    {
     "name": "stdout",
     "output_type": "stream",
     "text": [
      "THIS IS \n",
      " MY\n",
      " BAG\n"
     ]
    }
   ],
   "source": [
    "s1=\"this is \\n my\\n bag\"\n",
    "s2=s1.upper();\n",
    "print s2"
   ]
  },
  {
   "cell_type": "raw",
   "metadata": {},
   "source": [
    "s1=input(\"enter user name\")\n",
    "s2=s1.lower();\n",
    "print s2"
   ]
  },
  {
   "cell_type": "code",
   "execution_count": 34,
   "metadata": {},
   "outputs": [
    {
     "name": "stdout",
     "output_type": "stream",
     "text": [
      "enter user nameranu\n",
      "ranu\n"
     ]
    }
   ],
   "source": [
    "s1=raw_input(\"enter user name\")\n",
    "s2=s1.lower();\n",
    "print s2"
   ]
  },
  {
   "cell_type": "code",
   "execution_count": 35,
   "metadata": {},
   "outputs": [
    {
     "name": "stdout",
     "output_type": "stream",
     "text": [
      "enter user nameRAJESH\n",
      "rajesh\n"
     ]
    }
   ],
   "source": [
    "s1=raw_input(\"enter user name\")\n",
    "s2=s1.lower();\n",
    "print s2"
   ]
  },
  {
   "cell_type": "code",
   "execution_count": 36,
   "metadata": {},
   "outputs": [
    {
     "name": "stdout",
     "output_type": "stream",
     "text": [
      "Enter user name:rajesh\n",
      "Enter your age45\n",
      "Enter your hight5.5\n"
     ]
    },
    {
     "ename": "TypeError",
     "evalue": "float argument required, not str",
     "output_type": "error",
     "traceback": [
      "\u001b[1;31m---------------------------------------------------------------------------\u001b[0m",
      "\u001b[1;31mTypeError\u001b[0m                                 Traceback (most recent call last)",
      "\u001b[1;32m<ipython-input-36-4d917fc00caa>\u001b[0m in \u001b[0;36m<module>\u001b[1;34m()\u001b[0m\n\u001b[0;32m      2\u001b[0m \u001b[0mage\u001b[0m\u001b[1;33m=\u001b[0m\u001b[0mraw_input\u001b[0m\u001b[1;33m(\u001b[0m\u001b[1;34m\"Enter your age\"\u001b[0m\u001b[1;33m)\u001b[0m\u001b[1;33m\u001b[0m\u001b[0m\n\u001b[0;32m      3\u001b[0m \u001b[0mhight\u001b[0m\u001b[1;33m=\u001b[0m\u001b[0mraw_input\u001b[0m\u001b[1;33m(\u001b[0m\u001b[1;34m\"Enter your hight\"\u001b[0m\u001b[1;33m)\u001b[0m\u001b[1;33m\u001b[0m\u001b[0m\n\u001b[1;32m----> 4\u001b[1;33m \u001b[1;32mprint\u001b[0m \u001b[1;34m\"Name:%s,Age:%r,hight:%f\"\u001b[0m\u001b[1;33m%\u001b[0m\u001b[1;33m(\u001b[0m\u001b[0mname\u001b[0m\u001b[1;33m,\u001b[0m\u001b[0mage\u001b[0m\u001b[1;33m,\u001b[0m\u001b[0mhight\u001b[0m\u001b[1;33m)\u001b[0m\u001b[1;33m\u001b[0m\u001b[0m\n\u001b[0m",
      "\u001b[1;31mTypeError\u001b[0m: float argument required, not str"
     ]
    }
   ],
   "source": [
    "name=raw_input(\"Enter user name:\")\n",
    "age=raw_input(\"Enter your age\")\n",
    "hight=raw_input(\"Enter your hight\")\n",
    "print \"Name:%s,Age:%r,hight:%f\"%(name,age,hight)"
   ]
  },
  {
   "cell_type": "code",
   "execution_count": 37,
   "metadata": {},
   "outputs": [
    {
     "name": "stdout",
     "output_type": "stream",
     "text": [
      "Enter user name:rajesh\n",
      "Enter your age45\n",
      "Enter your hight4.6\n",
      "Name:'rajesh',Age:'45',hight:'4.6'\n"
     ]
    }
   ],
   "source": [
    "name=raw_input(\"Enter user name:\")\n",
    "age=raw_input(\"Enter your age\")\n",
    "hight=raw_input(\"Enter your hight\")\n",
    "print \"Name:%r,Age:%r,hight:%r\"%(name,age,hight)"
   ]
  },
  {
   "cell_type": "code",
   "execution_count": 38,
   "metadata": {},
   "outputs": [
    {
     "name": "stdout",
     "output_type": "stream",
     "text": [
      "Enter user name:rajesh\n",
      "Enter your age25\n",
      "Enter your hight5.6\n",
      "Name:rajesh,Age:25,hight:5.6\n"
     ]
    }
   ],
   "source": [
    "name=raw_input(\"Enter user name:\")\n",
    "age=raw_input(\"Enter your age\")\n",
    "hight=raw_input(\"Enter your hight\")\n",
    "print \"Name:%s,Age:%s,hight:%s\"%(name,age,hight)"
   ]
  },
  {
   "cell_type": "code",
   "execution_count": 39,
   "metadata": {},
   "outputs": [
    {
     "name": "stdout",
     "output_type": "stream",
     "text": [
      "Enter user name:rajesh\n",
      "Enter your age87\n",
      "Enter your hight5.3\n",
      "Name:rajesh,Age:87,hight:5.300000\n"
     ]
    }
   ],
   "source": [
    "name=raw_input(\"Enter user name:\")\n",
    "age=raw_input(\"Enter your age\")\n",
    "hight=input(\"Enter your hight\")\n",
    "print \"Name:%s,Age:%s,hight:%f\"%(name,age,hight)"
   ]
  },
  {
   "cell_type": "code",
   "execution_count": 40,
   "metadata": {},
   "outputs": [
    {
     "name": "stdout",
     "output_type": "stream",
     "text": [
      "Enter user name:rajesh\n",
      "Enter your age56\n",
      "Enter your hight5.3\n",
      "Name:RAJESH,Age:56,hight:5.300000\n"
     ]
    }
   ],
   "source": [
    "name=raw_input(\"Enter user name:\")\n",
    "s1=name.upper();\n",
    "age=raw_input(\"Enter your age\")\n",
    "hight=input(\"Enter your hight\")\n",
    "print \"Name:%s,Age:%s,hight:%f\"%(s1,age,hight)"
   ]
  },
  {
   "cell_type": "code",
   "execution_count": 41,
   "metadata": {},
   "outputs": [
    {
     "name": "stdout",
     "output_type": "stream",
     "text": [
      "Enter user name:rajesh\n",
      "Enter your age45\n",
      "Enter your hight4.2\n",
      "Name:RAJESH,Age:45,hight:4.200\n"
     ]
    }
   ],
   "source": [
    "name=raw_input(\"Enter user name:\")\n",
    "s1=name.upper();\n",
    "age=raw_input(\"Enter your age\")\n",
    "hight=input(\"Enter your hight\")\n",
    "print \"Name:%s,Age:%s,hight:%.3f\"%(s1,age,hight)"
   ]
  },
  {
   "cell_type": "code",
   "execution_count": 42,
   "metadata": {},
   "outputs": [
    {
     "name": "stdout",
     "output_type": "stream",
     "text": [
      "my name is narendra\n",
      " i am working in genpact\n",
      " it's locate in pocharam\n",
      "Adderss:pocharam huderabad\n"
     ]
    }
   ],
   "source": [
    "print \"my name is narendra\\n i am working in genpact\\n it's locate in pocharam\\nAdderss:pocharam huderabad\""
   ]
  },
  {
   "cell_type": "code",
   "execution_count": 43,
   "metadata": {},
   "outputs": [
    {
     "name": "stdout",
     "output_type": "stream",
     "text": [
      "my name is narendra\\n i am working in genpact\\n it's locate in pocharam\n",
      "Adderss:pocharam huderabad\n"
     ]
    }
   ],
   "source": [
    "print \"my name is narendra\\\\n i am working in genpact\\\\n it's locate in pocharam\\nAdderss:pocharam huderabad\""
   ]
  },
  {
   "cell_type": "code",
   "execution_count": null,
   "metadata": {
    "collapsed": true
   },
   "outputs": [],
   "source": []
  }
 ],
 "metadata": {
  "kernelspec": {
   "display_name": "Python 2",
   "language": "python",
   "name": "python2"
  },
  "language_info": {
   "codemirror_mode": {
    "name": "ipython",
    "version": 2
   },
   "file_extension": ".py",
   "mimetype": "text/x-python",
   "name": "python",
   "nbconvert_exporter": "python",
   "pygments_lexer": "ipython2",
   "version": "2.7.14"
  }
 },
 "nbformat": 4,
 "nbformat_minor": 2
}
